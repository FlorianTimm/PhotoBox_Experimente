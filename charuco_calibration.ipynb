{
 "cells": [
  {
   "cell_type": "code",
   "execution_count": 2,
   "metadata": {},
   "outputs": [],
   "source": [
    "import cv2\n",
    "from fpdf import FPDF\n",
    "import cv2.aruco as aruco\n",
    "import numpy as np\n",
    "from glob import glob"
   ]
  },
  {
   "cell_type": "code",
   "execution_count": 3,
   "metadata": {},
   "outputs": [],
   "source": [
    "# Define the parameters for the Charuco board\n",
    "num_squares_x = 5\n",
    "num_squares_y = 7\n",
    "square_length = 100\n",
    "marker_length = 80\n",
    "\n",
    "# Create the Charuco board\n",
    "board = aruco.CharucoBoard_create(\n",
    "    squaresX=num_squares_x,\n",
    "    squaresY=num_squares_y,\n",
    "    squareLength=square_length,\n",
    "    markerLength=marker_length,\n",
    "    dictionary=aruco.Dictionary_get(aruco.DICT_4X4_50)\n",
    ")"
   ]
  },
  {
   "cell_type": "code",
   "execution_count": 6,
   "metadata": {},
   "outputs": [
    {
     "data": {
      "text/plain": [
       "True"
      ]
     },
     "execution_count": 6,
     "metadata": {},
     "output_type": "execute_result"
    }
   ],
   "source": [
    "\n",
    "# Save the Charuco board image\n",
    "board_image = board.draw(\n",
    "    (num_squares_x * square_length, num_squares_y * square_length))\n",
    "cv2.imwrite(\"charuco_board.png\", board_image)"
   ]
  },
  {
   "cell_type": "code",
   "execution_count": 8,
   "metadata": {},
   "outputs": [
    {
     "data": {
      "text/plain": [
       "''"
      ]
     },
     "execution_count": 8,
     "metadata": {},
     "output_type": "execute_result"
    }
   ],
   "source": [
    "\n",
    "# Convert the image to PDF\n",
    "pdf = FPDF(unit=\"mm\", format='A4')\n",
    "pdf.add_page()\n",
    "pdf.image(\"charuco_board.png\", x=(210-175)//2, y=(297-245)//2, w=175, h=245)\n",
    "pdf.output(\"charuco_board.pdf\")"
   ]
  },
  {
   "cell_type": "code",
   "execution_count": 11,
   "metadata": {},
   "outputs": [],
   "source": [
    "# Load the calibration images\n",
    "calibration_images = glob(\"../../bilderserien/charuco/*/*.jpg\")"
   ]
  },
  {
   "cell_type": "code",
   "execution_count": 26,
   "metadata": {},
   "outputs": [],
   "source": [
    "# Detect Charuco markers in the calibration images\n",
    "all_corners = []\n",
    "all_ids = []\n",
    "for i in calibration_images:\n",
    "    image = cv2.imread(i)\n",
    "    gray = cv2.cvtColor(image, cv2.COLOR_BGR2GRAY)\n",
    "    corners, ids, _ = aruco.detectMarkers(gray, board.dictionary)\n",
    "    if len(corners) >= 6:\n",
    "        ret, charuco_corners, charuco_ids = aruco.interpolateCornersCharuco(\n",
    "            corners, ids, gray, board)\n",
    "        if ret and len(charuco_corners) >= 6:\n",
    "            all_corners.append(charuco_corners)\n",
    "            all_ids.append(charuco_ids)"
   ]
  },
  {
   "cell_type": "code",
   "execution_count": 31,
   "metadata": {},
   "outputs": [
    {
     "data": {
      "text/plain": [
       "79"
      ]
     },
     "execution_count": 31,
     "metadata": {},
     "output_type": "execute_result"
    }
   ],
   "source": [
    "len(all_corners)"
   ]
  },
  {
   "cell_type": "code",
   "execution_count": 27,
   "metadata": {},
   "outputs": [
    {
     "name": "stdout",
     "output_type": "stream",
     "text": [
      "Camera Matrix:\n",
      "[[3.38490391e+03 0.00000000e+00 2.33240156e+03]\n",
      " [0.00000000e+00 3.39258948e+03 1.34515747e+03]\n",
      " [0.00000000e+00 0.00000000e+00 1.00000000e+00]]\n",
      "Distortion Coefficients:\n",
      "[[ 0.00244731  0.35281624  0.00568091  0.00252201 -0.66625855]]\n"
     ]
    }
   ],
   "source": [
    "# Calibrate the camera\n",
    "camera_matrix = np.zeros((3, 3))\n",
    "distortion_coefficients = np.zeros((1, 5))\n",
    "ret, camera_matrix, distortion_coefficients, _, _ = aruco.calibrateCameraCharuco(\n",
    "    all_corners, all_ids, board, gray.shape[::-1], camera_matrix, distortion_coefficients)\n",
    "\n",
    "# Print the camera matrix and distortion coefficients\n",
    "print(\"Camera Matrix:\")\n",
    "print(camera_matrix)\n",
    "print(\"Distortion Coefficients:\")\n",
    "print(distortion_coefficients)"
   ]
  },
  {
   "cell_type": "code",
   "execution_count": 33,
   "metadata": {},
   "outputs": [],
   "source": [
    "np.savetxt(\"camera_matrix.csv\", camera_matrix, delimiter=\",\")\n",
    "np.savetxt(\"distortion_coefficients.csv\",\n",
    "           distortion_coefficients, delimiter=\",\")"
   ]
  }
 ],
 "metadata": {
  "kernelspec": {
   "display_name": ".venv",
   "language": "python",
   "name": "python3"
  },
  "language_info": {
   "codemirror_mode": {
    "name": "ipython",
    "version": 3
   },
   "file_extension": ".py",
   "mimetype": "text/x-python",
   "name": "python",
   "nbconvert_exporter": "python",
   "pygments_lexer": "ipython3",
   "version": "3.11.6"
  }
 },
 "nbformat": 4,
 "nbformat_minor": 2
}
