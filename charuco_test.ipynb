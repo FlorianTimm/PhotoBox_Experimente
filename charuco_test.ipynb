{
 "cells": [
  {
   "cell_type": "code",
   "execution_count": 1,
   "metadata": {},
   "outputs": [],
   "source": [
    "import cv2\n",
    "from fpdf import FPDF\n",
    "import cv2.aruco as aruco\n",
    "import numpy as np\n",
    "from glob import glob\n",
    "from matplotlib import pyplot as plt\n",
    "import pandas as pd"
   ]
  },
  {
   "cell_type": "code",
   "execution_count": 2,
   "metadata": {},
   "outputs": [],
   "source": [
    "# Define the parameters for the Charuco board\n",
    "num_squares_x = 5\n",
    "num_squares_y = 7\n",
    "square_length = 100\n",
    "marker_length = 80\n",
    "\n",
    "# Create the Charuco board\n",
    "board = aruco.CharucoBoard_create(\n",
    "    squaresX=num_squares_x,\n",
    "    squaresY=num_squares_y,\n",
    "    squareLength=square_length,\n",
    "    markerLength=marker_length,\n",
    "    dictionary=aruco.Dictionary_get(aruco.DICT_4X4_50)\n",
    ")"
   ]
  },
  {
   "cell_type": "code",
   "execution_count": 3,
   "metadata": {},
   "outputs": [],
   "source": [
    "camera_matrix = np.loadtxt(\"camera_matrix.csv\", delimiter=\",\")\n",
    "dist_coeffs = np.loadtxt(\"distortion_coefficients.csv\",\n",
    "                         delimiter=\",\")"
   ]
  },
  {
   "cell_type": "code",
   "execution_count": 4,
   "metadata": {},
   "outputs": [],
   "source": [
    "# Load the calibration images\n",
    "calibration_images = [glob(i + \"/*.jpg\")\n",
    "                      for i in glob(\"../../bilderserien/charuco/*\")]"
   ]
  },
  {
   "cell_type": "code",
   "execution_count": 5,
   "metadata": {},
   "outputs": [],
   "source": [
    "liste = []"
   ]
  },
  {
   "cell_type": "code",
   "execution_count": 6,
   "metadata": {},
   "outputs": [],
   "source": [
    "for i, serie in enumerate(calibration_images):\n",
    "    for pfad in serie:\n",
    "        image = cv2.imread(pfad)\n",
    "        gray = cv2.cvtColor(image, cv2.COLOR_BGR2GRAY)\n",
    "        corners, ids, rejectedImgPoints = aruco.detectMarkers(\n",
    "            gray, board.dictionary)\n",
    "        aruco.refineDetectedMarkers(\n",
    "            gray, board, corners, ids, rejectedImgPoints)\n",
    "        # gray = cv2.cvtColor(gray, cv2.COLOR_BGR2RGB)\n",
    "        if corners:  # if there is at least one marker detected\n",
    "            charucoretval, charucoCorners, charucoIds = aruco.interpolateCornersCharuco(\n",
    "                corners, ids, gray, board)\n",
    "            im_with_charuco_board = aruco.drawDetectedCornersCharuco(\n",
    "                gray, charucoCorners, charucoIds, (0, 255, 0))\n",
    "            rvec, tvec = None, None\n",
    "            retval, rvec, tvec = aruco.estimatePoseCharucoBoard(\n",
    "                charucoCorners, charucoIds, board, camera_matrix, dist_coeffs, rvec, tvec)  # posture estimation from a charuco board\n",
    "\n",
    "            if retval == True:\n",
    "                # axis length 100 can be changed according to your requirement\n",
    "                # im_with_charuco_board = cv2.drawFrameAxis(\n",
    "                #   im_with_charuco_board, camera_matrix, dist_coeffs, rvec, tvec, 100)\n",
    "                gray = aruco.drawDetectedCornersCharuco(\n",
    "                    gray, charucoCorners, charucoIds)\n",
    "                gray = cv2.drawFrameAxes(\n",
    "                    gray, camera_matrix, dist_coeffs, rvec, tvec, 100, 10)\n",
    "                liste.append([i, int(pfad[-6: -4]), tvec[0][0], tvec[1][0],  tvec[\n",
    "                    2][0], rvec[0][0], rvec[1][0],  rvec[2][0]])\n",
    "\n",
    "            # plt.figure(figsize=(14, 11))\n",
    "            # plt.imshow(gray)\n",
    "            # plt.title(i)\n",
    "            # plt.show()"
   ]
  },
  {
   "cell_type": "code",
   "execution_count": 7,
   "metadata": {},
   "outputs": [
    {
     "data": {
      "text/html": [
       "<div>\n",
       "<style scoped>\n",
       "    .dataframe tbody tr th:only-of-type {\n",
       "        vertical-align: middle;\n",
       "    }\n",
       "\n",
       "    .dataframe tbody tr th {\n",
       "        vertical-align: top;\n",
       "    }\n",
       "\n",
       "    .dataframe thead th {\n",
       "        text-align: right;\n",
       "    }\n",
       "</style>\n",
       "<table border=\"1\" class=\"dataframe\">\n",
       "  <thead>\n",
       "    <tr style=\"text-align: right;\">\n",
       "      <th></th>\n",
       "      <th>serie</th>\n",
       "      <th>image</th>\n",
       "      <th>t1</th>\n",
       "      <th>t2</th>\n",
       "      <th>t3</th>\n",
       "      <th>r1</th>\n",
       "      <th>r2</th>\n",
       "      <th>r3</th>\n",
       "    </tr>\n",
       "  </thead>\n",
       "  <tbody>\n",
       "    <tr>\n",
       "      <th>0</th>\n",
       "      <td>0</td>\n",
       "      <td>1</td>\n",
       "      <td>-550.974101</td>\n",
       "      <td>-81.331424</td>\n",
       "      <td>942.317202</td>\n",
       "      <td>1.559219</td>\n",
       "      <td>0.264291</td>\n",
       "      <td>-1.320321</td>\n",
       "    </tr>\n",
       "    <tr>\n",
       "      <th>1</th>\n",
       "      <td>2</td>\n",
       "      <td>13</td>\n",
       "      <td>-955.788834</td>\n",
       "      <td>451.080072</td>\n",
       "      <td>1310.147740</td>\n",
       "      <td>0.505830</td>\n",
       "      <td>-1.377375</td>\n",
       "      <td>-0.603576</td>\n",
       "    </tr>\n",
       "    <tr>\n",
       "      <th>2</th>\n",
       "      <td>2</td>\n",
       "      <td>16</td>\n",
       "      <td>-812.670406</td>\n",
       "      <td>169.877476</td>\n",
       "      <td>1880.000482</td>\n",
       "      <td>0.479745</td>\n",
       "      <td>-0.634539</td>\n",
       "      <td>-0.219412</td>\n",
       "    </tr>\n",
       "    <tr>\n",
       "      <th>3</th>\n",
       "      <td>2</td>\n",
       "      <td>17</td>\n",
       "      <td>-822.765808</td>\n",
       "      <td>-251.709110</td>\n",
       "      <td>1440.611030</td>\n",
       "      <td>0.160580</td>\n",
       "      <td>-0.682056</td>\n",
       "      <td>-0.107797</td>\n",
       "    </tr>\n",
       "    <tr>\n",
       "      <th>4</th>\n",
       "      <td>2</td>\n",
       "      <td>18</td>\n",
       "      <td>-838.470303</td>\n",
       "      <td>-591.872096</td>\n",
       "      <td>1407.284071</td>\n",
       "      <td>-0.036649</td>\n",
       "      <td>-0.720462</td>\n",
       "      <td>-0.004840</td>\n",
       "    </tr>\n",
       "    <tr>\n",
       "      <th>...</th>\n",
       "      <td>...</td>\n",
       "      <td>...</td>\n",
       "      <td>...</td>\n",
       "      <td>...</td>\n",
       "      <td>...</td>\n",
       "      <td>...</td>\n",
       "      <td>...</td>\n",
       "      <td>...</td>\n",
       "    </tr>\n",
       "    <tr>\n",
       "      <th>75</th>\n",
       "      <td>12</td>\n",
       "      <td>16</td>\n",
       "      <td>604.040996</td>\n",
       "      <td>559.839317</td>\n",
       "      <td>1396.544309</td>\n",
       "      <td>0.345235</td>\n",
       "      <td>0.678844</td>\n",
       "      <td>2.267590</td>\n",
       "    </tr>\n",
       "    <tr>\n",
       "      <th>76</th>\n",
       "      <td>12</td>\n",
       "      <td>17</td>\n",
       "      <td>599.970712</td>\n",
       "      <td>-33.608968</td>\n",
       "      <td>895.810614</td>\n",
       "      <td>0.154415</td>\n",
       "      <td>1.027134</td>\n",
       "      <td>2.104221</td>\n",
       "    </tr>\n",
       "    <tr>\n",
       "      <th>77</th>\n",
       "      <td>12</td>\n",
       "      <td>19</td>\n",
       "      <td>356.172381</td>\n",
       "      <td>612.257407</td>\n",
       "      <td>1071.375835</td>\n",
       "      <td>1.010535</td>\n",
       "      <td>1.089829</td>\n",
       "      <td>2.596355</td>\n",
       "    </tr>\n",
       "    <tr>\n",
       "      <th>78</th>\n",
       "      <td>12</td>\n",
       "      <td>20</td>\n",
       "      <td>370.224820</td>\n",
       "      <td>199.780075</td>\n",
       "      <td>593.908696</td>\n",
       "      <td>0.933911</td>\n",
       "      <td>1.430183</td>\n",
       "      <td>2.291295</td>\n",
       "    </tr>\n",
       "    <tr>\n",
       "      <th>79</th>\n",
       "      <td>12</td>\n",
       "      <td>22</td>\n",
       "      <td>-43.257712</td>\n",
       "      <td>680.599102</td>\n",
       "      <td>1002.237883</td>\n",
       "      <td>-1.331316</td>\n",
       "      <td>-1.173096</td>\n",
       "      <td>-1.931689</td>\n",
       "    </tr>\n",
       "  </tbody>\n",
       "</table>\n",
       "<p>80 rows × 8 columns</p>\n",
       "</div>"
      ],
      "text/plain": [
       "    serie  image          t1          t2           t3        r1        r2  \\\n",
       "0       0      1 -550.974101  -81.331424   942.317202  1.559219  0.264291   \n",
       "1       2     13 -955.788834  451.080072  1310.147740  0.505830 -1.377375   \n",
       "2       2     16 -812.670406  169.877476  1880.000482  0.479745 -0.634539   \n",
       "3       2     17 -822.765808 -251.709110  1440.611030  0.160580 -0.682056   \n",
       "4       2     18 -838.470303 -591.872096  1407.284071 -0.036649 -0.720462   \n",
       "..    ...    ...         ...         ...          ...       ...       ...   \n",
       "75     12     16  604.040996  559.839317  1396.544309  0.345235  0.678844   \n",
       "76     12     17  599.970712  -33.608968   895.810614  0.154415  1.027134   \n",
       "77     12     19  356.172381  612.257407  1071.375835  1.010535  1.089829   \n",
       "78     12     20  370.224820  199.780075   593.908696  0.933911  1.430183   \n",
       "79     12     22  -43.257712  680.599102  1002.237883 -1.331316 -1.173096   \n",
       "\n",
       "          r3  \n",
       "0  -1.320321  \n",
       "1  -0.603576  \n",
       "2  -0.219412  \n",
       "3  -0.107797  \n",
       "4  -0.004840  \n",
       "..       ...  \n",
       "75  2.267590  \n",
       "76  2.104221  \n",
       "77  2.596355  \n",
       "78  2.291295  \n",
       "79 -1.931689  \n",
       "\n",
       "[80 rows x 8 columns]"
      ]
     },
     "execution_count": 7,
     "metadata": {},
     "output_type": "execute_result"
    }
   ],
   "source": [
    "df = pd.DataFrame(liste,\n",
    "                  columns=[\"serie\", \"image\", \"t1\", \"t2\", \"t3\", \"r1\", \"r2\", \"r3\"])\n",
    "df"
   ]
  },
  {
   "cell_type": "code",
   "execution_count": 14,
   "metadata": {},
   "outputs": [
    {
     "data": {
      "text/html": [
       "<div>\n",
       "<style scoped>\n",
       "    .dataframe tbody tr th:only-of-type {\n",
       "        vertical-align: middle;\n",
       "    }\n",
       "\n",
       "    .dataframe tbody tr th {\n",
       "        vertical-align: top;\n",
       "    }\n",
       "\n",
       "    .dataframe thead th {\n",
       "        text-align: right;\n",
       "    }\n",
       "</style>\n",
       "<table border=\"1\" class=\"dataframe\">\n",
       "  <thead>\n",
       "    <tr style=\"text-align: right;\">\n",
       "      <th></th>\n",
       "      <th>serie</th>\n",
       "      <th>t1</th>\n",
       "      <th>t2</th>\n",
       "      <th>t3</th>\n",
       "      <th>r1</th>\n",
       "      <th>r2</th>\n",
       "      <th>r3</th>\n",
       "    </tr>\n",
       "    <tr>\n",
       "      <th>image</th>\n",
       "      <th></th>\n",
       "      <th></th>\n",
       "      <th></th>\n",
       "      <th></th>\n",
       "      <th></th>\n",
       "      <th></th>\n",
       "      <th></th>\n",
       "    </tr>\n",
       "  </thead>\n",
       "  <tbody>\n",
       "    <tr>\n",
       "      <th>1</th>\n",
       "      <td>5</td>\n",
       "      <td>5</td>\n",
       "      <td>5</td>\n",
       "      <td>5</td>\n",
       "      <td>5</td>\n",
       "      <td>5</td>\n",
       "      <td>5</td>\n",
       "    </tr>\n",
       "    <tr>\n",
       "      <th>2</th>\n",
       "      <td>2</td>\n",
       "      <td>2</td>\n",
       "      <td>2</td>\n",
       "      <td>2</td>\n",
       "      <td>2</td>\n",
       "      <td>2</td>\n",
       "      <td>2</td>\n",
       "    </tr>\n",
       "    <tr>\n",
       "      <th>3</th>\n",
       "      <td>1</td>\n",
       "      <td>1</td>\n",
       "      <td>1</td>\n",
       "      <td>1</td>\n",
       "      <td>1</td>\n",
       "      <td>1</td>\n",
       "      <td>1</td>\n",
       "    </tr>\n",
       "    <tr>\n",
       "      <th>4</th>\n",
       "      <td>7</td>\n",
       "      <td>7</td>\n",
       "      <td>7</td>\n",
       "      <td>7</td>\n",
       "      <td>7</td>\n",
       "      <td>7</td>\n",
       "      <td>7</td>\n",
       "    </tr>\n",
       "    <tr>\n",
       "      <th>5</th>\n",
       "      <td>2</td>\n",
       "      <td>2</td>\n",
       "      <td>2</td>\n",
       "      <td>2</td>\n",
       "      <td>2</td>\n",
       "      <td>2</td>\n",
       "      <td>2</td>\n",
       "    </tr>\n",
       "    <tr>\n",
       "      <th>6</th>\n",
       "      <td>2</td>\n",
       "      <td>2</td>\n",
       "      <td>2</td>\n",
       "      <td>2</td>\n",
       "      <td>2</td>\n",
       "      <td>2</td>\n",
       "      <td>2</td>\n",
       "    </tr>\n",
       "    <tr>\n",
       "      <th>7</th>\n",
       "      <td>8</td>\n",
       "      <td>8</td>\n",
       "      <td>8</td>\n",
       "      <td>8</td>\n",
       "      <td>8</td>\n",
       "      <td>8</td>\n",
       "      <td>8</td>\n",
       "    </tr>\n",
       "    <tr>\n",
       "      <th>8</th>\n",
       "      <td>4</td>\n",
       "      <td>4</td>\n",
       "      <td>4</td>\n",
       "      <td>4</td>\n",
       "      <td>4</td>\n",
       "      <td>4</td>\n",
       "      <td>4</td>\n",
       "    </tr>\n",
       "    <tr>\n",
       "      <th>10</th>\n",
       "      <td>6</td>\n",
       "      <td>6</td>\n",
       "      <td>6</td>\n",
       "      <td>6</td>\n",
       "      <td>6</td>\n",
       "      <td>6</td>\n",
       "      <td>6</td>\n",
       "    </tr>\n",
       "    <tr>\n",
       "      <th>11</th>\n",
       "      <td>2</td>\n",
       "      <td>2</td>\n",
       "      <td>2</td>\n",
       "      <td>2</td>\n",
       "      <td>2</td>\n",
       "      <td>2</td>\n",
       "      <td>2</td>\n",
       "    </tr>\n",
       "    <tr>\n",
       "      <th>12</th>\n",
       "      <td>2</td>\n",
       "      <td>2</td>\n",
       "      <td>2</td>\n",
       "      <td>2</td>\n",
       "      <td>2</td>\n",
       "      <td>2</td>\n",
       "      <td>2</td>\n",
       "    </tr>\n",
       "    <tr>\n",
       "      <th>13</th>\n",
       "      <td>6</td>\n",
       "      <td>6</td>\n",
       "      <td>6</td>\n",
       "      <td>6</td>\n",
       "      <td>6</td>\n",
       "      <td>6</td>\n",
       "      <td>6</td>\n",
       "    </tr>\n",
       "    <tr>\n",
       "      <th>14</th>\n",
       "      <td>3</td>\n",
       "      <td>3</td>\n",
       "      <td>3</td>\n",
       "      <td>3</td>\n",
       "      <td>3</td>\n",
       "      <td>3</td>\n",
       "      <td>3</td>\n",
       "    </tr>\n",
       "    <tr>\n",
       "      <th>15</th>\n",
       "      <td>1</td>\n",
       "      <td>1</td>\n",
       "      <td>1</td>\n",
       "      <td>1</td>\n",
       "      <td>1</td>\n",
       "      <td>1</td>\n",
       "      <td>1</td>\n",
       "    </tr>\n",
       "    <tr>\n",
       "      <th>16</th>\n",
       "      <td>5</td>\n",
       "      <td>5</td>\n",
       "      <td>5</td>\n",
       "      <td>5</td>\n",
       "      <td>5</td>\n",
       "      <td>5</td>\n",
       "      <td>5</td>\n",
       "    </tr>\n",
       "    <tr>\n",
       "      <th>17</th>\n",
       "      <td>2</td>\n",
       "      <td>2</td>\n",
       "      <td>2</td>\n",
       "      <td>2</td>\n",
       "      <td>2</td>\n",
       "      <td>2</td>\n",
       "      <td>2</td>\n",
       "    </tr>\n",
       "    <tr>\n",
       "      <th>18</th>\n",
       "      <td>2</td>\n",
       "      <td>2</td>\n",
       "      <td>2</td>\n",
       "      <td>2</td>\n",
       "      <td>2</td>\n",
       "      <td>2</td>\n",
       "      <td>2</td>\n",
       "    </tr>\n",
       "    <tr>\n",
       "      <th>19</th>\n",
       "      <td>6</td>\n",
       "      <td>6</td>\n",
       "      <td>6</td>\n",
       "      <td>6</td>\n",
       "      <td>6</td>\n",
       "      <td>6</td>\n",
       "      <td>6</td>\n",
       "    </tr>\n",
       "    <tr>\n",
       "      <th>20</th>\n",
       "      <td>2</td>\n",
       "      <td>2</td>\n",
       "      <td>2</td>\n",
       "      <td>2</td>\n",
       "      <td>2</td>\n",
       "      <td>2</td>\n",
       "      <td>2</td>\n",
       "    </tr>\n",
       "    <tr>\n",
       "      <th>21</th>\n",
       "      <td>2</td>\n",
       "      <td>2</td>\n",
       "      <td>2</td>\n",
       "      <td>2</td>\n",
       "      <td>2</td>\n",
       "      <td>2</td>\n",
       "      <td>2</td>\n",
       "    </tr>\n",
       "    <tr>\n",
       "      <th>22</th>\n",
       "      <td>6</td>\n",
       "      <td>6</td>\n",
       "      <td>6</td>\n",
       "      <td>6</td>\n",
       "      <td>6</td>\n",
       "      <td>6</td>\n",
       "      <td>6</td>\n",
       "    </tr>\n",
       "    <tr>\n",
       "      <th>23</th>\n",
       "      <td>2</td>\n",
       "      <td>2</td>\n",
       "      <td>2</td>\n",
       "      <td>2</td>\n",
       "      <td>2</td>\n",
       "      <td>2</td>\n",
       "      <td>2</td>\n",
       "    </tr>\n",
       "    <tr>\n",
       "      <th>24</th>\n",
       "      <td>2</td>\n",
       "      <td>2</td>\n",
       "      <td>2</td>\n",
       "      <td>2</td>\n",
       "      <td>2</td>\n",
       "      <td>2</td>\n",
       "      <td>2</td>\n",
       "    </tr>\n",
       "  </tbody>\n",
       "</table>\n",
       "</div>"
      ],
      "text/plain": [
       "       serie  t1  t2  t3  r1  r2  r3\n",
       "image                               \n",
       "1          5   5   5   5   5   5   5\n",
       "2          2   2   2   2   2   2   2\n",
       "3          1   1   1   1   1   1   1\n",
       "4          7   7   7   7   7   7   7\n",
       "5          2   2   2   2   2   2   2\n",
       "6          2   2   2   2   2   2   2\n",
       "7          8   8   8   8   8   8   8\n",
       "8          4   4   4   4   4   4   4\n",
       "10         6   6   6   6   6   6   6\n",
       "11         2   2   2   2   2   2   2\n",
       "12         2   2   2   2   2   2   2\n",
       "13         6   6   6   6   6   6   6\n",
       "14         3   3   3   3   3   3   3\n",
       "15         1   1   1   1   1   1   1\n",
       "16         5   5   5   5   5   5   5\n",
       "17         2   2   2   2   2   2   2\n",
       "18         2   2   2   2   2   2   2\n",
       "19         6   6   6   6   6   6   6\n",
       "20         2   2   2   2   2   2   2\n",
       "21         2   2   2   2   2   2   2\n",
       "22         6   6   6   6   6   6   6\n",
       "23         2   2   2   2   2   2   2\n",
       "24         2   2   2   2   2   2   2"
      ]
     },
     "execution_count": 14,
     "metadata": {},
     "output_type": "execute_result"
    }
   ],
   "source": [
    "df.groupby(\"image\").count()"
   ]
  },
  {
   "cell_type": "code",
   "execution_count": 67,
   "metadata": {},
   "outputs": [
    {
     "data": {
      "text/html": [
       "<div>\n",
       "<style scoped>\n",
       "    .dataframe tbody tr th:only-of-type {\n",
       "        vertical-align: middle;\n",
       "    }\n",
       "\n",
       "    .dataframe tbody tr th {\n",
       "        vertical-align: top;\n",
       "    }\n",
       "\n",
       "    .dataframe thead th {\n",
       "        text-align: right;\n",
       "    }\n",
       "</style>\n",
       "<table border=\"1\" class=\"dataframe\">\n",
       "  <thead>\n",
       "    <tr style=\"text-align: right;\">\n",
       "      <th></th>\n",
       "      <th>serie</th>\n",
       "      <th>image</th>\n",
       "      <th>t1</th>\n",
       "      <th>t2</th>\n",
       "      <th>t3</th>\n",
       "      <th>r1</th>\n",
       "      <th>r2</th>\n",
       "      <th>r3</th>\n",
       "    </tr>\n",
       "  </thead>\n",
       "  <tbody>\n",
       "    <tr>\n",
       "      <th>15</th>\n",
       "      <td>4.0</td>\n",
       "      <td>7.0</td>\n",
       "      <td>36.011018</td>\n",
       "      <td>-656.787022</td>\n",
       "      <td>1165.368269</td>\n",
       "      <td>0.038135</td>\n",
       "      <td>-1.233551</td>\n",
       "      <td>1.085748</td>\n",
       "    </tr>\n",
       "    <tr>\n",
       "      <th>19</th>\n",
       "      <td>5.0</td>\n",
       "      <td>7.0</td>\n",
       "      <td>-415.002027</td>\n",
       "      <td>656.655016</td>\n",
       "      <td>2067.548523</td>\n",
       "      <td>-0.781761</td>\n",
       "      <td>-0.272662</td>\n",
       "      <td>-0.641544</td>\n",
       "    </tr>\n",
       "    <tr>\n",
       "      <th>32</th>\n",
       "      <td>6.0</td>\n",
       "      <td>7.0</td>\n",
       "      <td>490.065975</td>\n",
       "      <td>-418.025987</td>\n",
       "      <td>2081.267189</td>\n",
       "      <td>0.403238</td>\n",
       "      <td>0.683502</td>\n",
       "      <td>0.428722</td>\n",
       "    </tr>\n",
       "    <tr>\n",
       "      <th>36</th>\n",
       "      <td>7.0</td>\n",
       "      <td>7.0</td>\n",
       "      <td>-764.199879</td>\n",
       "      <td>-177.910392</td>\n",
       "      <td>1818.164990</td>\n",
       "      <td>0.573171</td>\n",
       "      <td>-0.733257</td>\n",
       "      <td>-0.381310</td>\n",
       "    </tr>\n",
       "    <tr>\n",
       "      <th>45</th>\n",
       "      <td>8.0</td>\n",
       "      <td>7.0</td>\n",
       "      <td>-171.212151</td>\n",
       "      <td>-474.484930</td>\n",
       "      <td>1500.886115</td>\n",
       "      <td>-0.769510</td>\n",
       "      <td>0.230422</td>\n",
       "      <td>0.352991</td>\n",
       "    </tr>\n",
       "    <tr>\n",
       "      <th>52</th>\n",
       "      <td>9.0</td>\n",
       "      <td>7.0</td>\n",
       "      <td>-515.079963</td>\n",
       "      <td>-508.449381</td>\n",
       "      <td>815.074447</td>\n",
       "      <td>0.676643</td>\n",
       "      <td>-1.047424</td>\n",
       "      <td>-0.448884</td>\n",
       "    </tr>\n",
       "    <tr>\n",
       "      <th>62</th>\n",
       "      <td>11.0</td>\n",
       "      <td>7.0</td>\n",
       "      <td>-95.795913</td>\n",
       "      <td>-202.254298</td>\n",
       "      <td>1792.420644</td>\n",
       "      <td>-0.320769</td>\n",
       "      <td>0.750961</td>\n",
       "      <td>0.147685</td>\n",
       "    </tr>\n",
       "    <tr>\n",
       "      <th>69</th>\n",
       "      <td>12.0</td>\n",
       "      <td>7.0</td>\n",
       "      <td>-320.382987</td>\n",
       "      <td>-118.311466</td>\n",
       "      <td>1808.554609</td>\n",
       "      <td>-0.866787</td>\n",
       "      <td>-0.578679</td>\n",
       "      <td>0.445118</td>\n",
       "    </tr>\n",
       "  </tbody>\n",
       "</table>\n",
       "</div>"
      ],
      "text/plain": [
       "    serie  image          t1          t2           t3        r1        r2  \\\n",
       "15    4.0    7.0   36.011018 -656.787022  1165.368269  0.038135 -1.233551   \n",
       "19    5.0    7.0 -415.002027  656.655016  2067.548523 -0.781761 -0.272662   \n",
       "32    6.0    7.0  490.065975 -418.025987  2081.267189  0.403238  0.683502   \n",
       "36    7.0    7.0 -764.199879 -177.910392  1818.164990  0.573171 -0.733257   \n",
       "45    8.0    7.0 -171.212151 -474.484930  1500.886115 -0.769510  0.230422   \n",
       "52    9.0    7.0 -515.079963 -508.449381   815.074447  0.676643 -1.047424   \n",
       "62   11.0    7.0  -95.795913 -202.254298  1792.420644 -0.320769  0.750961   \n",
       "69   12.0    7.0 -320.382987 -118.311466  1808.554609 -0.866787 -0.578679   \n",
       "\n",
       "          r3  \n",
       "15  1.085748  \n",
       "19 -0.641544  \n",
       "32  0.428722  \n",
       "36 -0.381310  \n",
       "45  0.352991  \n",
       "52 -0.448884  \n",
       "62  0.147685  \n",
       "69  0.445118  "
      ]
     },
     "execution_count": 67,
     "metadata": {},
     "output_type": "execute_result"
    }
   ],
   "source": [
    "img7 = df.where((df[\"image\"] == 7)).dropna()\n",
    "img4 = df.where((df[\"image\"] == 4)).dropna()\n",
    "img7"
   ]
  },
  {
   "cell_type": "code",
   "execution_count": 72,
   "metadata": {},
   "outputs": [
    {
     "data": {
      "text/html": [
       "<div>\n",
       "<style scoped>\n",
       "    .dataframe tbody tr th:only-of-type {\n",
       "        vertical-align: middle;\n",
       "    }\n",
       "\n",
       "    .dataframe tbody tr th {\n",
       "        vertical-align: top;\n",
       "    }\n",
       "\n",
       "    .dataframe thead th {\n",
       "        text-align: right;\n",
       "    }\n",
       "</style>\n",
       "<table border=\"1\" class=\"dataframe\">\n",
       "  <thead>\n",
       "    <tr style=\"text-align: right;\">\n",
       "      <th></th>\n",
       "      <th>image_a</th>\n",
       "      <th>t1_a</th>\n",
       "      <th>t2_a</th>\n",
       "      <th>t3_a</th>\n",
       "      <th>r1_a</th>\n",
       "      <th>r2_a</th>\n",
       "      <th>r3_a</th>\n",
       "      <th>image_b</th>\n",
       "      <th>t1_b</th>\n",
       "      <th>t2_b</th>\n",
       "      <th>t3_b</th>\n",
       "      <th>r1_b</th>\n",
       "      <th>r2_b</th>\n",
       "      <th>r3_b</th>\n",
       "    </tr>\n",
       "    <tr>\n",
       "      <th>serie</th>\n",
       "      <th></th>\n",
       "      <th></th>\n",
       "      <th></th>\n",
       "      <th></th>\n",
       "      <th></th>\n",
       "      <th></th>\n",
       "      <th></th>\n",
       "      <th></th>\n",
       "      <th></th>\n",
       "      <th></th>\n",
       "      <th></th>\n",
       "      <th></th>\n",
       "      <th></th>\n",
       "      <th></th>\n",
       "    </tr>\n",
       "  </thead>\n",
       "  <tbody>\n",
       "    <tr>\n",
       "      <th>6.0</th>\n",
       "      <td>4.0</td>\n",
       "      <td>-306.394308</td>\n",
       "      <td>-292.721764</td>\n",
       "      <td>2097.910395</td>\n",
       "      <td>0.314681</td>\n",
       "      <td>-0.012074</td>\n",
       "      <td>0.005843</td>\n",
       "      <td>7.0</td>\n",
       "      <td>490.065975</td>\n",
       "      <td>-418.025987</td>\n",
       "      <td>2081.267189</td>\n",
       "      <td>0.403238</td>\n",
       "      <td>0.683502</td>\n",
       "      <td>0.428722</td>\n",
       "    </tr>\n",
       "    <tr>\n",
       "      <th>7.0</th>\n",
       "      <td>4.0</td>\n",
       "      <td>-922.584890</td>\n",
       "      <td>395.419633</td>\n",
       "      <td>1184.977896</td>\n",
       "      <td>0.392191</td>\n",
       "      <td>-1.479335</td>\n",
       "      <td>-0.653040</td>\n",
       "      <td>7.0</td>\n",
       "      <td>-764.199879</td>\n",
       "      <td>-177.910392</td>\n",
       "      <td>1818.164990</td>\n",
       "      <td>0.573171</td>\n",
       "      <td>-0.733257</td>\n",
       "      <td>-0.381310</td>\n",
       "    </tr>\n",
       "    <tr>\n",
       "      <th>8.0</th>\n",
       "      <td>4.0</td>\n",
       "      <td>-494.731511</td>\n",
       "      <td>-197.242541</td>\n",
       "      <td>1258.088748</td>\n",
       "      <td>-0.851860</td>\n",
       "      <td>-0.133291</td>\n",
       "      <td>-0.395791</td>\n",
       "      <td>7.0</td>\n",
       "      <td>-171.212151</td>\n",
       "      <td>-474.484930</td>\n",
       "      <td>1500.886115</td>\n",
       "      <td>-0.769510</td>\n",
       "      <td>0.230422</td>\n",
       "      <td>0.352991</td>\n",
       "    </tr>\n",
       "    <tr>\n",
       "      <th>9.0</th>\n",
       "      <td>4.0</td>\n",
       "      <td>-391.480617</td>\n",
       "      <td>-247.992338</td>\n",
       "      <td>499.610345</td>\n",
       "      <td>0.426218</td>\n",
       "      <td>-1.852030</td>\n",
       "      <td>-0.663809</td>\n",
       "      <td>7.0</td>\n",
       "      <td>-515.079963</td>\n",
       "      <td>-508.449381</td>\n",
       "      <td>815.074447</td>\n",
       "      <td>0.676643</td>\n",
       "      <td>-1.047424</td>\n",
       "      <td>-0.448884</td>\n",
       "    </tr>\n",
       "    <tr>\n",
       "      <th>11.0</th>\n",
       "      <td>4.0</td>\n",
       "      <td>-456.827826</td>\n",
       "      <td>79.272034</td>\n",
       "      <td>1544.546773</td>\n",
       "      <td>-0.233959</td>\n",
       "      <td>0.220397</td>\n",
       "      <td>-0.469495</td>\n",
       "      <td>7.0</td>\n",
       "      <td>-95.795913</td>\n",
       "      <td>-202.254298</td>\n",
       "      <td>1792.420644</td>\n",
       "      <td>-0.320769</td>\n",
       "      <td>0.750961</td>\n",
       "      <td>0.147685</td>\n",
       "    </tr>\n",
       "    <tr>\n",
       "      <th>12.0</th>\n",
       "      <td>4.0</td>\n",
       "      <td>-577.274753</td>\n",
       "      <td>249.734759</td>\n",
       "      <td>1429.180717</td>\n",
       "      <td>-1.226081</td>\n",
       "      <td>-0.855648</td>\n",
       "      <td>-0.285769</td>\n",
       "      <td>7.0</td>\n",
       "      <td>-320.382987</td>\n",
       "      <td>-118.311466</td>\n",
       "      <td>1808.554609</td>\n",
       "      <td>-0.866787</td>\n",
       "      <td>-0.578679</td>\n",
       "      <td>0.445118</td>\n",
       "    </tr>\n",
       "  </tbody>\n",
       "</table>\n",
       "</div>"
      ],
      "text/plain": [
       "       image_a        t1_a        t2_a         t3_a      r1_a      r2_a  \\\n",
       "serie                                                                     \n",
       "6.0        4.0 -306.394308 -292.721764  2097.910395  0.314681 -0.012074   \n",
       "7.0        4.0 -922.584890  395.419633  1184.977896  0.392191 -1.479335   \n",
       "8.0        4.0 -494.731511 -197.242541  1258.088748 -0.851860 -0.133291   \n",
       "9.0        4.0 -391.480617 -247.992338   499.610345  0.426218 -1.852030   \n",
       "11.0       4.0 -456.827826   79.272034  1544.546773 -0.233959  0.220397   \n",
       "12.0       4.0 -577.274753  249.734759  1429.180717 -1.226081 -0.855648   \n",
       "\n",
       "           r3_a  image_b        t1_b        t2_b         t3_b      r1_b  \\\n",
       "serie                                                                     \n",
       "6.0    0.005843      7.0  490.065975 -418.025987  2081.267189  0.403238   \n",
       "7.0   -0.653040      7.0 -764.199879 -177.910392  1818.164990  0.573171   \n",
       "8.0   -0.395791      7.0 -171.212151 -474.484930  1500.886115 -0.769510   \n",
       "9.0   -0.663809      7.0 -515.079963 -508.449381   815.074447  0.676643   \n",
       "11.0  -0.469495      7.0  -95.795913 -202.254298  1792.420644 -0.320769   \n",
       "12.0  -0.285769      7.0 -320.382987 -118.311466  1808.554609 -0.866787   \n",
       "\n",
       "           r2_b      r3_b  \n",
       "serie                      \n",
       "6.0    0.683502  0.428722  \n",
       "7.0   -0.733257 -0.381310  \n",
       "8.0    0.230422  0.352991  \n",
       "9.0   -1.047424 -0.448884  \n",
       "11.0   0.750961  0.147685  \n",
       "12.0  -0.578679  0.445118  "
      ]
     },
     "execution_count": 72,
     "metadata": {},
     "output_type": "execute_result"
    }
   ],
   "source": [
    "v = img4.set_index('serie').join(\n",
    "    img7.set_index('serie'), lsuffix=\"_a\", rsuffix=\"_b\").dropna()\n",
    "\n",
    "# v[\"r1\"] = (v[\"r1_a\"] - v[\"r1_b\"])\n",
    "# v[\"r2\"] = (v[\"r2_a\"] - v[\"r2_b\"])\n",
    "# v[\"r3\"] = (v[\"r3_a\"] - v[\"r3_b\"])\n",
    "v"
   ]
  },
  {
   "cell_type": "code",
   "execution_count": 82,
   "metadata": {},
   "outputs": [
    {
     "name": "stdout",
     "output_type": "stream",
     "text": [
      "[0.77082068 0.50680577 1.        ]\n",
      "[-0.58073968  0.20184313  1.        ]\n",
      "[6.13342208 4.79958101 1.        ]\n",
      "[-1.17679598  0.41190443  1.        ]\n",
      "[2.96738671 1.08615324 1.        ]\n",
      "[10.40031243 17.97164491  1.        ]\n"
     ]
    }
   ],
   "source": [
    "for w in v[['r1_a', 'r2_a', 'r3_a', 'r1_b', 'r2_b', 'r3_b']].values:\n",
    "    a = cv2.Rodrigues(w[:3])[0]\n",
    "    b = cv2.Rodrigues(w[3:])[0]\n",
    "    k = a@np.ones(3)\n",
    "    print(k/k[2])"
   ]
  },
  {
   "cell_type": "code",
   "execution_count": 63,
   "metadata": {},
   "outputs": [
    {
     "data": {
      "application/vnd.plotly.v1+json": {
       "config": {
        "plotlyServerURL": "https://plot.ly"
       },
       "data": [
        {
         "mode": "markers",
         "name": "Kameras",
         "type": "scatter3d",
         "x": [
          -684.4031334070855,
          -210.91284296331713,
          378.5476001971421,
          298.24698063478723,
          756.49977012056,
          296.5960848175458,
          1096.5894206978692,
          -41.8270371460424,
          628.929578846588,
          -524.181828687857,
          -52.72133437410851,
          -979.1560115079316
         ],
         "y": [
          1276.0207779679122,
          1488.0468344494675,
          1339.6441887448889,
          1122.7403264794384,
          1029.9923748591093,
          492.10308964565263,
          284.03229133318257,
          -109.05791977409874,
          -297.8309242976056,
          -324.8938884709409,
          -463.22069051119496,
          6.218660300691501
         ],
         "z": [
          -584.409477705919,
          -1062.4241269796398,
          -368.09074632573106,
          -1442.474821540326,
          -906.8315617768142,
          -1760.349152809666,
          -803.166930544333,
          -1617.0895036054208,
          -824.2059209188164,
          -1126.6061636573968,
          -558.8855769067729,
          -714.6901248330321
         ]
        }
       ],
       "layout": {
        "scene": {
         "camera": {
          "projection": {
           "type": "orthographic"
          }
         },
         "xaxis": {
          "title": {
           "text": "X"
          }
         },
         "yaxis": {
          "title": {
           "text": "Y"
          }
         },
         "zaxis": {
          "title": {
           "text": "Z"
          }
         }
        },
        "template": {
         "data": {
          "bar": [
           {
            "error_x": {
             "color": "#2a3f5f"
            },
            "error_y": {
             "color": "#2a3f5f"
            },
            "marker": {
             "line": {
              "color": "#E5ECF6",
              "width": 0.5
             },
             "pattern": {
              "fillmode": "overlay",
              "size": 10,
              "solidity": 0.2
             }
            },
            "type": "bar"
           }
          ],
          "barpolar": [
           {
            "marker": {
             "line": {
              "color": "#E5ECF6",
              "width": 0.5
             },
             "pattern": {
              "fillmode": "overlay",
              "size": 10,
              "solidity": 0.2
             }
            },
            "type": "barpolar"
           }
          ],
          "carpet": [
           {
            "aaxis": {
             "endlinecolor": "#2a3f5f",
             "gridcolor": "white",
             "linecolor": "white",
             "minorgridcolor": "white",
             "startlinecolor": "#2a3f5f"
            },
            "baxis": {
             "endlinecolor": "#2a3f5f",
             "gridcolor": "white",
             "linecolor": "white",
             "minorgridcolor": "white",
             "startlinecolor": "#2a3f5f"
            },
            "type": "carpet"
           }
          ],
          "choropleth": [
           {
            "colorbar": {
             "outlinewidth": 0,
             "ticks": ""
            },
            "type": "choropleth"
           }
          ],
          "contour": [
           {
            "colorbar": {
             "outlinewidth": 0,
             "ticks": ""
            },
            "colorscale": [
             [
              0,
              "#0d0887"
             ],
             [
              0.1111111111111111,
              "#46039f"
             ],
             [
              0.2222222222222222,
              "#7201a8"
             ],
             [
              0.3333333333333333,
              "#9c179e"
             ],
             [
              0.4444444444444444,
              "#bd3786"
             ],
             [
              0.5555555555555556,
              "#d8576b"
             ],
             [
              0.6666666666666666,
              "#ed7953"
             ],
             [
              0.7777777777777778,
              "#fb9f3a"
             ],
             [
              0.8888888888888888,
              "#fdca26"
             ],
             [
              1,
              "#f0f921"
             ]
            ],
            "type": "contour"
           }
          ],
          "contourcarpet": [
           {
            "colorbar": {
             "outlinewidth": 0,
             "ticks": ""
            },
            "type": "contourcarpet"
           }
          ],
          "heatmap": [
           {
            "colorbar": {
             "outlinewidth": 0,
             "ticks": ""
            },
            "colorscale": [
             [
              0,
              "#0d0887"
             ],
             [
              0.1111111111111111,
              "#46039f"
             ],
             [
              0.2222222222222222,
              "#7201a8"
             ],
             [
              0.3333333333333333,
              "#9c179e"
             ],
             [
              0.4444444444444444,
              "#bd3786"
             ],
             [
              0.5555555555555556,
              "#d8576b"
             ],
             [
              0.6666666666666666,
              "#ed7953"
             ],
             [
              0.7777777777777778,
              "#fb9f3a"
             ],
             [
              0.8888888888888888,
              "#fdca26"
             ],
             [
              1,
              "#f0f921"
             ]
            ],
            "type": "heatmap"
           }
          ],
          "heatmapgl": [
           {
            "colorbar": {
             "outlinewidth": 0,
             "ticks": ""
            },
            "colorscale": [
             [
              0,
              "#0d0887"
             ],
             [
              0.1111111111111111,
              "#46039f"
             ],
             [
              0.2222222222222222,
              "#7201a8"
             ],
             [
              0.3333333333333333,
              "#9c179e"
             ],
             [
              0.4444444444444444,
              "#bd3786"
             ],
             [
              0.5555555555555556,
              "#d8576b"
             ],
             [
              0.6666666666666666,
              "#ed7953"
             ],
             [
              0.7777777777777778,
              "#fb9f3a"
             ],
             [
              0.8888888888888888,
              "#fdca26"
             ],
             [
              1,
              "#f0f921"
             ]
            ],
            "type": "heatmapgl"
           }
          ],
          "histogram": [
           {
            "marker": {
             "pattern": {
              "fillmode": "overlay",
              "size": 10,
              "solidity": 0.2
             }
            },
            "type": "histogram"
           }
          ],
          "histogram2d": [
           {
            "colorbar": {
             "outlinewidth": 0,
             "ticks": ""
            },
            "colorscale": [
             [
              0,
              "#0d0887"
             ],
             [
              0.1111111111111111,
              "#46039f"
             ],
             [
              0.2222222222222222,
              "#7201a8"
             ],
             [
              0.3333333333333333,
              "#9c179e"
             ],
             [
              0.4444444444444444,
              "#bd3786"
             ],
             [
              0.5555555555555556,
              "#d8576b"
             ],
             [
              0.6666666666666666,
              "#ed7953"
             ],
             [
              0.7777777777777778,
              "#fb9f3a"
             ],
             [
              0.8888888888888888,
              "#fdca26"
             ],
             [
              1,
              "#f0f921"
             ]
            ],
            "type": "histogram2d"
           }
          ],
          "histogram2dcontour": [
           {
            "colorbar": {
             "outlinewidth": 0,
             "ticks": ""
            },
            "colorscale": [
             [
              0,
              "#0d0887"
             ],
             [
              0.1111111111111111,
              "#46039f"
             ],
             [
              0.2222222222222222,
              "#7201a8"
             ],
             [
              0.3333333333333333,
              "#9c179e"
             ],
             [
              0.4444444444444444,
              "#bd3786"
             ],
             [
              0.5555555555555556,
              "#d8576b"
             ],
             [
              0.6666666666666666,
              "#ed7953"
             ],
             [
              0.7777777777777778,
              "#fb9f3a"
             ],
             [
              0.8888888888888888,
              "#fdca26"
             ],
             [
              1,
              "#f0f921"
             ]
            ],
            "type": "histogram2dcontour"
           }
          ],
          "mesh3d": [
           {
            "colorbar": {
             "outlinewidth": 0,
             "ticks": ""
            },
            "type": "mesh3d"
           }
          ],
          "parcoords": [
           {
            "line": {
             "colorbar": {
              "outlinewidth": 0,
              "ticks": ""
             }
            },
            "type": "parcoords"
           }
          ],
          "pie": [
           {
            "automargin": true,
            "type": "pie"
           }
          ],
          "scatter": [
           {
            "fillpattern": {
             "fillmode": "overlay",
             "size": 10,
             "solidity": 0.2
            },
            "type": "scatter"
           }
          ],
          "scatter3d": [
           {
            "line": {
             "colorbar": {
              "outlinewidth": 0,
              "ticks": ""
             }
            },
            "marker": {
             "colorbar": {
              "outlinewidth": 0,
              "ticks": ""
             }
            },
            "type": "scatter3d"
           }
          ],
          "scattercarpet": [
           {
            "marker": {
             "colorbar": {
              "outlinewidth": 0,
              "ticks": ""
             }
            },
            "type": "scattercarpet"
           }
          ],
          "scattergeo": [
           {
            "marker": {
             "colorbar": {
              "outlinewidth": 0,
              "ticks": ""
             }
            },
            "type": "scattergeo"
           }
          ],
          "scattergl": [
           {
            "marker": {
             "colorbar": {
              "outlinewidth": 0,
              "ticks": ""
             }
            },
            "type": "scattergl"
           }
          ],
          "scattermapbox": [
           {
            "marker": {
             "colorbar": {
              "outlinewidth": 0,
              "ticks": ""
             }
            },
            "type": "scattermapbox"
           }
          ],
          "scatterpolar": [
           {
            "marker": {
             "colorbar": {
              "outlinewidth": 0,
              "ticks": ""
             }
            },
            "type": "scatterpolar"
           }
          ],
          "scatterpolargl": [
           {
            "marker": {
             "colorbar": {
              "outlinewidth": 0,
              "ticks": ""
             }
            },
            "type": "scatterpolargl"
           }
          ],
          "scatterternary": [
           {
            "marker": {
             "colorbar": {
              "outlinewidth": 0,
              "ticks": ""
             }
            },
            "type": "scatterternary"
           }
          ],
          "surface": [
           {
            "colorbar": {
             "outlinewidth": 0,
             "ticks": ""
            },
            "colorscale": [
             [
              0,
              "#0d0887"
             ],
             [
              0.1111111111111111,
              "#46039f"
             ],
             [
              0.2222222222222222,
              "#7201a8"
             ],
             [
              0.3333333333333333,
              "#9c179e"
             ],
             [
              0.4444444444444444,
              "#bd3786"
             ],
             [
              0.5555555555555556,
              "#d8576b"
             ],
             [
              0.6666666666666666,
              "#ed7953"
             ],
             [
              0.7777777777777778,
              "#fb9f3a"
             ],
             [
              0.8888888888888888,
              "#fdca26"
             ],
             [
              1,
              "#f0f921"
             ]
            ],
            "type": "surface"
           }
          ],
          "table": [
           {
            "cells": {
             "fill": {
              "color": "#EBF0F8"
             },
             "line": {
              "color": "white"
             }
            },
            "header": {
             "fill": {
              "color": "#C8D4E3"
             },
             "line": {
              "color": "white"
             }
            },
            "type": "table"
           }
          ]
         },
         "layout": {
          "annotationdefaults": {
           "arrowcolor": "#2a3f5f",
           "arrowhead": 0,
           "arrowwidth": 1
          },
          "autotypenumbers": "strict",
          "coloraxis": {
           "colorbar": {
            "outlinewidth": 0,
            "ticks": ""
           }
          },
          "colorscale": {
           "diverging": [
            [
             0,
             "#8e0152"
            ],
            [
             0.1,
             "#c51b7d"
            ],
            [
             0.2,
             "#de77ae"
            ],
            [
             0.3,
             "#f1b6da"
            ],
            [
             0.4,
             "#fde0ef"
            ],
            [
             0.5,
             "#f7f7f7"
            ],
            [
             0.6,
             "#e6f5d0"
            ],
            [
             0.7,
             "#b8e186"
            ],
            [
             0.8,
             "#7fbc41"
            ],
            [
             0.9,
             "#4d9221"
            ],
            [
             1,
             "#276419"
            ]
           ],
           "sequential": [
            [
             0,
             "#0d0887"
            ],
            [
             0.1111111111111111,
             "#46039f"
            ],
            [
             0.2222222222222222,
             "#7201a8"
            ],
            [
             0.3333333333333333,
             "#9c179e"
            ],
            [
             0.4444444444444444,
             "#bd3786"
            ],
            [
             0.5555555555555556,
             "#d8576b"
            ],
            [
             0.6666666666666666,
             "#ed7953"
            ],
            [
             0.7777777777777778,
             "#fb9f3a"
            ],
            [
             0.8888888888888888,
             "#fdca26"
            ],
            [
             1,
             "#f0f921"
            ]
           ],
           "sequentialminus": [
            [
             0,
             "#0d0887"
            ],
            [
             0.1111111111111111,
             "#46039f"
            ],
            [
             0.2222222222222222,
             "#7201a8"
            ],
            [
             0.3333333333333333,
             "#9c179e"
            ],
            [
             0.4444444444444444,
             "#bd3786"
            ],
            [
             0.5555555555555556,
             "#d8576b"
            ],
            [
             0.6666666666666666,
             "#ed7953"
            ],
            [
             0.7777777777777778,
             "#fb9f3a"
            ],
            [
             0.8888888888888888,
             "#fdca26"
            ],
            [
             1,
             "#f0f921"
            ]
           ]
          },
          "colorway": [
           "#636efa",
           "#EF553B",
           "#00cc96",
           "#ab63fa",
           "#FFA15A",
           "#19d3f3",
           "#FF6692",
           "#B6E880",
           "#FF97FF",
           "#FECB52"
          ],
          "font": {
           "color": "#2a3f5f"
          },
          "geo": {
           "bgcolor": "white",
           "lakecolor": "white",
           "landcolor": "#E5ECF6",
           "showlakes": true,
           "showland": true,
           "subunitcolor": "white"
          },
          "hoverlabel": {
           "align": "left"
          },
          "hovermode": "closest",
          "mapbox": {
           "style": "light"
          },
          "paper_bgcolor": "white",
          "plot_bgcolor": "#E5ECF6",
          "polar": {
           "angularaxis": {
            "gridcolor": "white",
            "linecolor": "white",
            "ticks": ""
           },
           "bgcolor": "#E5ECF6",
           "radialaxis": {
            "gridcolor": "white",
            "linecolor": "white",
            "ticks": ""
           }
          },
          "scene": {
           "xaxis": {
            "backgroundcolor": "#E5ECF6",
            "gridcolor": "white",
            "gridwidth": 2,
            "linecolor": "white",
            "showbackground": true,
            "ticks": "",
            "zerolinecolor": "white"
           },
           "yaxis": {
            "backgroundcolor": "#E5ECF6",
            "gridcolor": "white",
            "gridwidth": 2,
            "linecolor": "white",
            "showbackground": true,
            "ticks": "",
            "zerolinecolor": "white"
           },
           "zaxis": {
            "backgroundcolor": "#E5ECF6",
            "gridcolor": "white",
            "gridwidth": 2,
            "linecolor": "white",
            "showbackground": true,
            "ticks": "",
            "zerolinecolor": "white"
           }
          },
          "shapedefaults": {
           "line": {
            "color": "#2a3f5f"
           }
          },
          "ternary": {
           "aaxis": {
            "gridcolor": "white",
            "linecolor": "white",
            "ticks": ""
           },
           "baxis": {
            "gridcolor": "white",
            "linecolor": "white",
            "ticks": ""
           },
           "bgcolor": "#E5ECF6",
           "caxis": {
            "gridcolor": "white",
            "linecolor": "white",
            "ticks": ""
           }
          },
          "title": {
           "x": 0.05
          },
          "xaxis": {
           "automargin": true,
           "gridcolor": "white",
           "linecolor": "white",
           "ticks": "",
           "title": {
            "standoff": 15
           },
           "zerolinecolor": "white",
           "zerolinewidth": 2
          },
          "yaxis": {
           "automargin": true,
           "gridcolor": "white",
           "linecolor": "white",
           "ticks": "",
           "title": {
            "standoff": 15
           },
           "zerolinecolor": "white",
           "zerolinewidth": 2
          }
         }
        },
        "title": {
         "text": "Rotation and Translation Vectors in 3D"
        }
       }
      }
     },
     "metadata": {},
     "output_type": "display_data"
    }
   ],
   "source": [
    "import plotly.graph_objs as go\n",
    "\n",
    "coords_img = []\n",
    "for _, p in df.where(df[\"serie\"] == 12).dropna().iterrows():\n",
    "    rt = p[['r1', 'r2', 'r3']].to_numpy(dtype=np.float64)\n",
    "    R = cv2.Rodrigues(rt)[0]\n",
    "    R = np.linalg.inv(R)\n",
    "    t = p[['t1', 't2', 't3']].to_numpy(dtype=np.float64).T\n",
    "    t = -R@t\n",
    "    coords_img.append(t)\n",
    "coords_img = np.array(coords_img)\n",
    "\n",
    "# Create a 3D scatter plot\n",
    "fig = go.Figure(data=[go.Scatter3d(x=coords_img[:, 0], y=coords_img[:, 1], z=coords_img[:, 2],\n",
    "                                   mode='markers', name='Kameras')])\n",
    "\n",
    "# Add labels to the plot\n",
    "fig.update_layout(scene=dict(xaxis_title='X', yaxis_title='Y', zaxis_title='Z'),\n",
    "                  title='Rotation and Translation Vectors in 3D')\n",
    "fig.layout.scene.camera.projection.type = \"orthographic\"\n",
    "fig.show()"
   ]
  },
  {
   "cell_type": "code",
   "execution_count": null,
   "metadata": {},
   "outputs": [],
   "source": []
  }
 ],
 "metadata": {
  "kernelspec": {
   "display_name": ".venv",
   "language": "python",
   "name": "python3"
  },
  "language_info": {
   "codemirror_mode": {
    "name": "ipython",
    "version": 3
   },
   "file_extension": ".py",
   "mimetype": "text/x-python",
   "name": "python",
   "nbconvert_exporter": "python",
   "pygments_lexer": "ipython3",
   "version": "3.11.6"
  }
 },
 "nbformat": 4,
 "nbformat_minor": 2
}
