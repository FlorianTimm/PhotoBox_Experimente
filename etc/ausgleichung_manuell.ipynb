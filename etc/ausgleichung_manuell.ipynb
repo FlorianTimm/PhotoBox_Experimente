{
 "cells": [
  {
   "cell_type": "code",
   "execution_count": 2,
   "metadata": {},
   "outputs": [],
   "source": [
    "from cv2 import aruco, cvtColor, COLOR_BGR2GRAY, LUT, imread\n",
    "import numpy as np\n",
    "from glob import glob\n",
    "import pandas as pd"
   ]
  },
  {
   "cell_type": "code",
   "execution_count": 3,
   "metadata": {},
   "outputs": [],
   "source": [
    "c_rpi = 4740\n",
    "x0_rpi = 0.\n",
    "y0_rpi = 0.\n",
    "dist_rpi = np.zeros(5)\n",
    "\n",
    "pixelsize_rpi = 1.4\n",
    "\n",
    "kameratypen = pd.DataFrame([[0, \"rpi\", c_rpi, x0_rpi, y0_rpi, dist_rpi[0], dist_rpi[1], dist_rpi[2], dist_rpi[3], dist_rpi[4], pixelsize_rpi]],\n",
    "                           columns=[\"kameratyp\", \"name\", \"c\", \"x0\", \"y0\", \"d1\", \"d2\", \"d3\", \"d4\", \"d5\", \"pixelsize\"]).astype({\"kameratyp\": int}).set_index([\"kameratyp\"])\n",
    "kameras = pd.DataFrame([], columns=[\"kamera\", \"kameratyp\", \"name\", \"dc\", \"dx0\", \"dy0\"]).astype(\n",
    "    {\"kamera\": int, \"kameratyp\": int, \"dc\": float, \"dx0\": float, \"dy0\": float}).set_index([\"kamera\"])\n",
    "\n",
    "pictures = pd.DataFrame(columns=[\"img\", \"kamera\",\n",
    "                        \"pfad\", \"t1\", \"t2\", \"t3\", \"r1\", \"r2\", \"r3\"],  dtype=float).astype({\"img\": int, \"kamera\": int, \"pfad\": str}).set_index([\"img\"])"
   ]
  },
  {
   "cell_type": "code",
   "execution_count": 4,
   "metadata": {},
   "outputs": [],
   "source": [
    "pfad = \"../../bilderserien/PasspunktPos/8a25d87e-9f2a-48da-872d-36ce0d6b66d9.jpg/*.jpg\"\n",
    "bilderpfade = glob(pfad)\n",
    "\n",
    "rpi_kameras = list(set([i[-12:-4] for i in bilderpfade]))\n",
    "rpi_kameras.sort()\n",
    "\n",
    "for i in rpi_kameras:\n",
    "    kamera_id = len(kameras)\n",
    "    kameras.loc[kamera_id] = [0, i, 0., 0., 0.]\n",
    "\n",
    "for i in bilderpfade:\n",
    "    kamera = kameras.index[kameras['name'] == i[-12:-4]][0]\n",
    "    pictures.loc[len(pictures), ['kamera', 'pfad']] = [int(kamera), i]\n",
    "pictures = pictures.astype({\"kamera\": int})"
   ]
  },
  {
   "cell_type": "code",
   "execution_count": 5,
   "metadata": {},
   "outputs": [],
   "source": [
    "aruco_dict = aruco.extendDictionary(32, 3)\n",
    "parameter = aruco.DetectorParameters()\n",
    "parameter.cornerRefinementMethod = aruco.CORNER_REFINE_SUBPIX\n",
    "LUT_IN = [0, 158, 216, 255]\n",
    "LUT_OUT = [0, 22, 80, 176]\n",
    "lut = np.interp(np.arange(0, 256),\n",
    "                LUT_IN, LUT_OUT).astype(np.uint8)"
   ]
  },
  {
   "cell_type": "code",
   "execution_count": 6,
   "metadata": {},
   "outputs": [],
   "source": [
    "corners = []\n",
    "for j, img in pictures.iterrows():\n",
    "    imgCV = imread(img['pfad'])\n",
    "    gray = cvtColor(imgCV, COLOR_BGR2GRAY)\n",
    "    tmp_corners, tmp_ids, t = aruco.detectMarkers(\n",
    "        gray, aruco_dict, parameters=parameter)\n",
    "    x,y,farbtiefe = imgCV.shape\n",
    "    x /= 2.\n",
    "    y /= 2.\n",
    "    pixel = kameratypen.iloc[kameras.iloc[img['kamera']]['kameratyp']]['pixelsize']\n",
    "    for c, i in zip(tmp_corners, tmp_ids):\n",
    "        size = np.linalg.norm(c[0][0] - c[0][1])\n",
    "        # print(size)\n",
    "        if size < 100:\n",
    "            continue\n",
    "        for k in range(len(c[0])):\n",
    "            corners.append([j, i[0], k, (c[0][k][0]-x)*pixel, (c[0][k][1]-y)*pixel])\n",
    "corners = pd.DataFrame(corners, columns=[\"img\", \"marker\", \"ecke\", \"x'\", \"y'\"])\n",
    "\n",
    "corners.set_index([\"img\", \"marker\", \"ecke\"], inplace=True)"
   ]
  },
  {
   "cell_type": "code",
   "execution_count": 7,
   "metadata": {},
   "outputs": [
    {
     "data": {
      "text/html": [
       "<div>\n",
       "<style scoped>\n",
       "    .dataframe tbody tr th:only-of-type {\n",
       "        vertical-align: middle;\n",
       "    }\n",
       "\n",
       "    .dataframe tbody tr th {\n",
       "        vertical-align: top;\n",
       "    }\n",
       "\n",
       "    .dataframe thead th {\n",
       "        text-align: right;\n",
       "    }\n",
       "</style>\n",
       "<table border=\"1\" class=\"dataframe\">\n",
       "  <thead>\n",
       "    <tr style=\"text-align: right;\">\n",
       "      <th></th>\n",
       "      <th></th>\n",
       "      <th></th>\n",
       "      <th>x'</th>\n",
       "      <th>y'</th>\n",
       "    </tr>\n",
       "    <tr>\n",
       "      <th>img</th>\n",
       "      <th>marker</th>\n",
       "      <th>ecke</th>\n",
       "      <th></th>\n",
       "      <th></th>\n",
       "    </tr>\n",
       "  </thead>\n",
       "  <tbody>\n",
       "    <tr>\n",
       "      <th rowspan=\"5\" valign=\"top\">0</th>\n",
       "      <th rowspan=\"4\" valign=\"top\">13</th>\n",
       "      <th>0</th>\n",
       "      <td>-1538.688205</td>\n",
       "      <td>-257.016211</td>\n",
       "    </tr>\n",
       "    <tr>\n",
       "      <th>1</th>\n",
       "      <td>-1399.847729</td>\n",
       "      <td>-141.943799</td>\n",
       "    </tr>\n",
       "    <tr>\n",
       "      <th>2</th>\n",
       "      <td>-1425.948279</td>\n",
       "      <td>117.290674</td>\n",
       "    </tr>\n",
       "    <tr>\n",
       "      <th>3</th>\n",
       "      <td>-1570.110339</td>\n",
       "      <td>11.732178</td>\n",
       "    </tr>\n",
       "    <tr>\n",
       "      <th>29</th>\n",
       "      <th>0</th>\n",
       "      <td>-478.780945</td>\n",
       "      <td>185.393701</td>\n",
       "    </tr>\n",
       "    <tr>\n",
       "      <th>...</th>\n",
       "      <th>...</th>\n",
       "      <th>...</th>\n",
       "      <td>...</td>\n",
       "      <td>...</td>\n",
       "    </tr>\n",
       "    <tr>\n",
       "      <th rowspan=\"5\" valign=\"top\">22</th>\n",
       "      <th>9</th>\n",
       "      <th>3</th>\n",
       "      <td>-564.740979</td>\n",
       "      <td>-1955.345667</td>\n",
       "    </tr>\n",
       "    <tr>\n",
       "      <th rowspan=\"4\" valign=\"top\">10</th>\n",
       "      <th>0</th>\n",
       "      <td>1524.499854</td>\n",
       "      <td>-2050.149524</td>\n",
       "    </tr>\n",
       "    <tr>\n",
       "      <th>1</th>\n",
       "      <td>1293.365186</td>\n",
       "      <td>-2051.190295</td>\n",
       "    </tr>\n",
       "    <tr>\n",
       "      <th>2</th>\n",
       "      <td>1295.849707</td>\n",
       "      <td>-2284.198096</td>\n",
       "    </tr>\n",
       "    <tr>\n",
       "      <th>3</th>\n",
       "      <td>1531.295801</td>\n",
       "      <td>-2283.048633</td>\n",
       "    </tr>\n",
       "  </tbody>\n",
       "</table>\n",
       "<p>1048 rows × 2 columns</p>\n",
       "</div>"
      ],
      "text/plain": [
       "                          x'           y'\n",
       "img marker ecke                          \n",
       "0   13     0    -1538.688205  -257.016211\n",
       "           1    -1399.847729  -141.943799\n",
       "           2    -1425.948279   117.290674\n",
       "           3    -1570.110339    11.732178\n",
       "    29     0     -478.780945   185.393701\n",
       "...                      ...          ...\n",
       "22  9      3     -564.740979 -1955.345667\n",
       "    10     0     1524.499854 -2050.149524\n",
       "           1     1293.365186 -2051.190295\n",
       "           2     1295.849707 -2284.198096\n",
       "           3     1531.295801 -2283.048633\n",
       "\n",
       "[1048 rows x 2 columns]"
      ]
     },
     "execution_count": 7,
     "metadata": {},
     "output_type": "execute_result"
    }
   ],
   "source": [
    "corners"
   ]
  },
  {
   "cell_type": "code",
   "execution_count": 8,
   "metadata": {},
   "outputs": [],
   "source": [
    "def get_kamera(kameras, kid):\n",
    "    kamera = kameras.iloc[kid]\n",
    "    kameratyp = kameratypen.iloc[kamera[\"kameratyp\"]]\n",
    "    mtx = np.array([[kamera[\"dc\"] + kameratyp[\"c\"], 0, kamera[\"dx0\"] + kameratyp[\"x0\"]],\n",
    "                    [0, kamera[\"dc\"] + kameratyp[\"c\"],\n",
    "                        kamera[\"dy0\"] + kameratyp[\"y0\"]],\n",
    "                    [0, 0, 1]])\n",
    "    dist = np.array(kameratyp[[\"d1\", \"d2\", \"d3\", \"d4\", \"d5\"]])\n",
    "    return mtx.astype(np.float64), dist.astype(np.float64)"
   ]
  },
  {
   "cell_type": "code",
   "execution_count": 9,
   "metadata": {},
   "outputs": [],
   "source": [
    "coords = pd.DataFrame([[0, 0, -7.8, 7.8, 0.0],\n",
    "                       [0, 1, 7.8, 7.8, 0.0],\n",
    "                       [0, 2, 7.8, -7.8, 0.0],\n",
    "                       [0, 3, -7.8, -7.8, 0.0]], columns=[\"marker\", \"ecke\", \"X\", \"Y\", \"Z\"]).astype({\"marker\": int, \"ecke\": int}).set_index([\"marker\", \"ecke\"])"
   ]
  },
  {
   "cell_type": "markdown",
   "metadata": {},
   "source": [
    "## Erste Kamera orientieren\n",
    "\n",
    "Luhmann, S.290\n",
    "\n",
    "Rechenweg nach https://de.wikipedia.org/wiki/Projektionsmatrix_(Computer_Vision)#Berechnung_der_Projektionsmatrix_aus_Punktkorrespondenzen\n",
    "\n",
    "$$ x' = P \\cdot X $$\n",
    "$$ x' \\times PX = 0 $$\n",
    "$$\n",
    "\t\\begin{bmatrix}\n",
    "\t\t\\mathbf{0}^T & -w_i\\mathbf{X}_i & y_i\\mathbf{X}_i \\\\\n",
    "\t w_i\\mathbf{X}_i & \\mathbf{0}^T & -x_i\\mathbf{X}_i \\\\\n",
    "\t -y_i\\mathbf{X}_i & x_i\\mathbf{X}_i & \\mathbf{0}^T\t\n",
    "\t\\end{bmatrix}\n",
    "\t\\begin{pmatrix}\n",
    "\t\t\\mathbf{P}^{1T} \\\\\n",
    "\t\t\\mathbf{P}^{2T} \\\\\n",
    "\t\t\\mathbf{P}^{3T}\n",
    "\t\\end{pmatrix} = 0\n",
    "$$"
   ]
  },
  {
   "cell_type": "code",
   "execution_count": 14,
   "metadata": {},
   "outputs": [
    {
     "data": {
      "text/plain": [
       "array([[ 1.17408252e+03, -1.28175759e+03,  1.00000000e+00],\n",
       "       [ 2.19340386e+03, -1.26623079e+03,  1.00000000e+00],\n",
       "       [ 2.26310923e+03, -2.96436328e+02,  1.00000000e+00],\n",
       "       [ 1.09639380e+03, -3.25255957e+02,  1.00000000e+00]])"
      ]
     },
     "execution_count": 14,
     "metadata": {},
     "output_type": "execute_result"
    }
   ],
   "source": [
    "X[:3].T\n",
    "x_strich.T"
   ]
  },
  {
   "cell_type": "code",
   "execution_count": 15,
   "metadata": {},
   "outputs": [
    {
     "ename": "TypeError",
     "evalue": "'builtin_function_or_method' object is not iterable",
     "output_type": "error",
     "traceback": [
      "\u001b[0;31m---------------------------------------------------------------------------\u001b[0m",
      "\u001b[0;31mTypeError\u001b[0m                                 Traceback (most recent call last)",
      "\u001b[1;32m/mnt/ssd_daten/Studium/MScGeodaesieGeoinformatik/4_Thesis/Quellcode/experimente/ausgleichung_manuell.ipynb Zelle 11\u001b[0m line \u001b[0;36m1\n\u001b[0;32m----> <a href='vscode-notebook-cell:/mnt/ssd_daten/Studium/MScGeodaesieGeoinformatik/4_Thesis/Quellcode/experimente/ausgleichung_manuell.ipynb#X13sZmlsZQ%3D%3D?line=0'>1</a>\u001b[0m [[\u001b[39m0\u001b[39m, \u001b[39m-\u001b[39ma[\u001b[39m2\u001b[39m]\u001b[39m*\u001b[39mb, a[\u001b[39m1\u001b[39m]\u001b[39m*\u001b[39mb] \u001b[39mfor\u001b[39;00m a,b \u001b[39min\u001b[39;00m \u001b[39mzip\u001b[39;49m(x_strich\u001b[39m.\u001b[39;49mT\u001b[39m.\u001b[39;49mravel, X[:\u001b[39m3\u001b[39;49m]\u001b[39m.\u001b[39;49mT)]\n",
      "\u001b[0;31mTypeError\u001b[0m: 'builtin_function_or_method' object is not iterable"
     ]
    }
   ],
   "source": [
    "[[0, -a[2]*b, a[1]*b] for a,b in zip(x_strich.T.ravel, X[:3].T)]"
   ]
  },
  {
   "cell_type": "code",
   "execution_count": 18,
   "metadata": {},
   "outputs": [
    {
     "data": {
      "text/plain": [
       "array([[4.74e+03, 0.00e+00, 0.00e+00],\n",
       "       [0.00e+00, 4.74e+03, 0.00e+00],\n",
       "       [0.00e+00, 0.00e+00, 1.00e+00]])"
      ]
     },
     "execution_count": 18,
     "metadata": {},
     "output_type": "execute_result"
    }
   ],
   "source": [
    "K, dist = get_kamera(kameras, 0)\n",
    "K"
   ]
  },
  {
   "cell_type": "code",
   "execution_count": 12,
   "metadata": {},
   "outputs": [
    {
     "data": {
      "text/plain": [
       "array([[-7.8,  7.8,  7.8, -7.8],\n",
       "       [ 7.8,  7.8, -7.8, -7.8],\n",
       "       [ 0. ,  0. ,  0. ,  0. ],\n",
       "       [ 1. ,  1. ,  1. ,  1. ]])"
      ]
     },
     "execution_count": 12,
     "metadata": {},
     "output_type": "execute_result"
    }
   ],
   "source": [
    "verkn = corners.join(coords, on=[\"marker\", \"ecke\"]).dropna().loc[0].to_numpy()\n",
    "X = np.c_[verkn[:, 2:5],np.ones(len(verkn))].T\n",
    "X"
   ]
  },
  {
   "cell_type": "code",
   "execution_count": 13,
   "metadata": {},
   "outputs": [
    {
     "data": {
      "text/plain": [
       "array([[ 1.17408252e+03,  2.19340386e+03,  2.26310923e+03,\n",
       "         1.09639380e+03],\n",
       "       [-1.28175759e+03, -1.26623079e+03, -2.96436328e+02,\n",
       "        -3.25255957e+02],\n",
       "       [ 1.00000000e+00,  1.00000000e+00,  1.00000000e+00,\n",
       "         1.00000000e+00]])"
      ]
     },
     "execution_count": 13,
     "metadata": {},
     "output_type": "execute_result"
    }
   ],
   "source": [
    "x_strich = np.c_[verkn[:, :2], np.ones(len(verkn))].T\n",
    "x_strich"
   ]
  },
  {
   "cell_type": "code",
   "execution_count": 16,
   "metadata": {},
   "outputs": [],
   "source": [
    "R = np.eye(3)\n",
    "X0 = np.array([0, 0, 30])"
   ]
  },
  {
   "cell_type": "code",
   "execution_count": 17,
   "metadata": {},
   "outputs": [
    {
     "ename": "NameError",
     "evalue": "name 'K' is not defined",
     "output_type": "error",
     "traceback": [
      "\u001b[0;31m---------------------------------------------------------------------------\u001b[0m",
      "\u001b[0;31mNameError\u001b[0m                                 Traceback (most recent call last)",
      "\u001b[1;32m/mnt/ssd_daten/Studium/MScGeodaesieGeoinformatik/4_Thesis/Quellcode/experimente/ausgleichung_manuell.ipynb Zelle 16\u001b[0m line \u001b[0;36m1\n\u001b[0;32m----> <a href='vscode-notebook-cell:/mnt/ssd_daten/Studium/MScGeodaesieGeoinformatik/4_Thesis/Quellcode/experimente/ausgleichung_manuell.ipynb#X21sZmlsZQ%3D%3D?line=0'>1</a>\u001b[0m P \u001b[39m=\u001b[39m K\u001b[39m@np\u001b[39m\u001b[39m.\u001b[39mc_[R, \u001b[39m-\u001b[39mR\u001b[39m@X0\u001b[39m]\n",
      "\u001b[0;31mNameError\u001b[0m: name 'K' is not defined"
     ]
    }
   ],
   "source": [
    "P = K@np.c_[R, -R@X0]\n"
   ]
  },
  {
   "cell_type": "code",
   "execution_count": null,
   "metadata": {},
   "outputs": [
    {
     "data": {
      "text/plain": [
       "array([[ 1.2324e+03, -1.2324e+03, -1.2324e+03,  1.2324e+03],\n",
       "       [-1.2324e+03, -1.2324e+03,  1.2324e+03,  1.2324e+03],\n",
       "       [ 1.0000e+00,  1.0000e+00,  1.0000e+00,  1.0000e+00]])"
      ]
     },
     "execution_count": 151,
     "metadata": {},
     "output_type": "execute_result"
    }
   ],
   "source": [
    "Test = P@X\n",
    "Test  /= Test[2]\n",
    "Test"
   ]
  },
  {
   "cell_type": "code",
   "execution_count": null,
   "metadata": {},
   "outputs": [
    {
     "ename": "NameError",
     "evalue": "name 'np' is not defined",
     "output_type": "error",
     "traceback": [
      "\u001b[0;31m---------------------------------------------------------------------------\u001b[0m",
      "\u001b[0;31mNameError\u001b[0m                                 Traceback (most recent call last)",
      "\u001b[1;32m/mnt/ssd_daten/Studium/MScGeodaesieGeoinformatik/4_Thesis/Quellcode/experimente/ausgleichung_manuell.ipynb Zelle 18\u001b[0m line \u001b[0;36m1\n\u001b[0;32m----> <a href='vscode-notebook-cell:/mnt/ssd_daten/Studium/MScGeodaesieGeoinformatik/4_Thesis/Quellcode/experimente/ausgleichung_manuell.ipynb#X24sZmlsZQ%3D%3D?line=0'>1</a>\u001b[0m np\u001b[39m.\u001b[39mlinalg\u001b[39m.\u001b[39msvd(P)\n",
      "\u001b[0;31mNameError\u001b[0m: name 'np' is not defined"
     ]
    }
   ],
   "source": [
    "np.linalg.svd(P)"
   ]
  }
 ],
 "metadata": {
  "kernelspec": {
   "display_name": ".venv",
   "language": "python",
   "name": "python3"
  },
  "language_info": {
   "codemirror_mode": {
    "name": "ipython",
    "version": 3
   },
   "file_extension": ".py",
   "mimetype": "text/x-python",
   "name": "python",
   "nbconvert_exporter": "python",
   "pygments_lexer": "ipython3",
   "version": "3.11.6"
  }
 },
 "nbformat": 4,
 "nbformat_minor": 2
}
